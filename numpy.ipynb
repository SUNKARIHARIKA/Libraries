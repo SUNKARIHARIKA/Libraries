{
 "cells": [
  {
   "cell_type": "code",
   "execution_count": 2,
   "id": "0fdb503b-4eb3-4451-b60e-f8611a601567",
   "metadata": {},
   "outputs": [],
   "source": [
    "import numpy"
   ]
  },
  {
   "cell_type": "code",
   "execution_count": 3,
   "id": "733b3f7a-9e64-42ca-826c-0266145d119b",
   "metadata": {},
   "outputs": [
    {
     "name": "stdout",
     "output_type": "stream",
     "text": [
      "2.2.6\n"
     ]
    }
   ],
   "source": [
    "import numpy as np\n",
    "print(np.__version__)"
   ]
  },
  {
   "cell_type": "markdown",
   "id": "17e8484c-9974-4916-aec3-a088499d7c14",
   "metadata": {
    "collapsed": true,
    "jupyter": {
     "outputs_hidden": true
    },
    "scrolled": true
   },
   "source": [
    "### zero dimensional array-which consists of single value with no axis\n",
    "a=np.array(10)\n",
    "print(a)\n",
    "#we can create any sequence like list tuple etc into numpy array using np.array(),np.asarray(),np.frombuffer(),np.fromiter()"
   ]
  },
  {
   "cell_type": "code",
   "execution_count": 5,
   "id": "3f8cef52-7847-4a7c-bc2b-78c2a2d2243e",
   "metadata": {},
   "outputs": [
    {
     "name": "stdout",
     "output_type": "stream",
     "text": [
      "[10 20 30]\n"
     ]
    }
   ],
   "source": [
    "#one dimensional array-contains a sequence of elemnts arranged in a single line  with one axis\n",
    "a=np.array([10,20,30])\n",
    "print(a)"
   ]
  },
  {
   "cell_type": "code",
   "execution_count": 6,
   "id": "f9ef6d0f-55a8-4fb4-bb7b-d8d1c09745a9",
   "metadata": {},
   "outputs": [
    {
     "name": "stdout",
     "output_type": "stream",
     "text": [
      "[[10 20 30]\n",
      " [40 50 60]]\n"
     ]
    }
   ],
   "source": [
    "#two dimensional array-an array with rows and columns consist of two axis one for rows and other for columns\n",
    "a=np.array([[10,20,30],[40,50,60]])\n",
    "print(a)"
   ]
  },
  {
   "cell_type": "code",
   "execution_count": 7,
   "id": "d6b5552b-1c94-4cfb-872e-b6de4bd33eea",
   "metadata": {},
   "outputs": [
    {
     "name": "stdout",
     "output_type": "stream",
     "text": [
      "60\n"
     ]
    }
   ],
   "source": [
    "print(a[1][2])"
   ]
  },
  {
   "cell_type": "code",
   "execution_count": 9,
   "id": "f805ce51-cbc4-4d4f-ae81-3e5e9ea311f0",
   "metadata": {},
   "outputs": [
    {
     "name": "stdout",
     "output_type": "stream",
     "text": [
      "[[[10 20]\n",
      "  [30 40]]\n",
      "\n",
      " [[50 60]\n",
      "  [70 80]]]\n"
     ]
    }
   ],
   "source": [
    "#three dimensional array-collection of two dimensions\n",
    "a=np.array([[[10,20],[30,40]],[[50,60],[70,80]]])\n",
    "print(a)"
   ]
  },
  {
   "cell_type": "code",
   "execution_count": 11,
   "id": "34441fe7-19ff-484a-8ad0-d685570ab545",
   "metadata": {},
   "outputs": [
    {
     "name": "stdout",
     "output_type": "stream",
     "text": [
      "30\n"
     ]
    }
   ],
   "source": [
    "print(a[0][1][0])"
   ]
  },
  {
   "cell_type": "code",
   "execution_count": 7,
   "id": "cc53ade7-7c40-4c1f-aaa9-e95204d15675",
   "metadata": {},
   "outputs": [
    {
     "name": "stdout",
     "output_type": "stream",
     "text": [
      "[10. 20. 30.]\n"
     ]
    }
   ],
   "source": [
    "#asarray function is used to convert list tuple or other to numpy array and the elements are converted into other datatype by dtype\n",
    "#asarray(input that need to be converted into an array,datatype\n",
    "a=[10,20,30]\n",
    "b=np.asarray(a,dtype=float)\n",
    "print(b)"
   ]
  },
  {
   "cell_type": "code",
   "execution_count": 6,
   "id": "d135ce68-bfba-4318-be8c-ecb3ca45f058",
   "metadata": {},
   "outputs": [],
   "source": [
    "#the order parameter in npasarray() function specifies how multidimensional data stored in memory.'C'-row major order 'D'-column major order\n",
    "a=[[10,20],[30,40]]\n",
    "b=np.asarray(a,order='C')"
   ]
  },
  {
   "cell_type": "code",
   "execution_count": 10,
   "id": "d896dc08-4c7f-4f8e-8561-068043e5d855",
   "metadata": {},
   "outputs": [
    {
     "name": "stdout",
     "output_type": "stream",
     "text": [
      "0\n",
      "2\n",
      "[[[[[1 2 3 4]]]]]\n"
     ]
    }
   ],
   "source": [
    "#ndim-is aattribute used to print the dimensions of the array \n",
    "a=np.array(10)\n",
    "b=np.array([[10,20],[30,40]])\n",
    "print(a.ndim)\n",
    "print(b.ndim)"
   ]
  },
  {
   "cell_type": "code",
   "execution_count": 14,
   "id": "bf7ecc58-602f-48f3-bd73-3bd438768f42",
   "metadata": {},
   "outputs": [
    {
     "name": "stdout",
     "output_type": "stream",
     "text": [
      "[[10 20]\n",
      " [30 40]]\n"
     ]
    }
   ],
   "source": [
    "print(b)"
   ]
  },
  {
   "cell_type": "code",
   "execution_count": 15,
   "id": "5910da52-6717-453d-a7bf-e715ca601ae5",
   "metadata": {},
   "outputs": [
    {
     "name": "stdout",
     "output_type": "stream",
     "text": [
      "10\n",
      "20\n",
      "30\n",
      "40\n"
     ]
    }
   ],
   "source": [
    "#The np.nditer() function in NumPy is a multidimensional iterator used to efficiently loop through elements of a NumPy array\n",
    "for i in np.nditer(b):\n",
    "    print(i)"
   ]
  },
  {
   "cell_type": "code",
   "execution_count": 16,
   "id": "b632e147-e21c-457d-a170-6734a34d5216",
   "metadata": {},
   "outputs": [],
   "source": [
    "a=[[10,20],[30,40]]\n",
    "b=np.asarray(a,order='F')"
   ]
  },
  {
   "cell_type": "code",
   "execution_count": 12,
   "id": "988dc2c1-7d70-4af3-a5de-73f5b4a88054",
   "metadata": {},
   "outputs": [
    {
     "name": "stdout",
     "output_type": "stream",
     "text": [
      "10\n",
      "30\n",
      "20\n",
      "40\n"
     ]
    }
   ],
   "source": [
    "for i in np.nditer(b):\n",
    "    print(i)"
   ]
  },
  {
   "cell_type": "code",
   "execution_count": 17,
   "id": "ef41ee3b-6fac-40be-af86-38382a6a3d7d",
   "metadata": {},
   "outputs": [],
   "source": [
    "#The numpy.frombuffer() function is used to interpret a buffer (like bytes or bytearray) as a 1-dimensional NumPy array. It's especially useful when working with binary data, files, or data coming from external sources\n",
    "'''parameters\n",
    "1.buffer-A buffer object (like bytes, bytearray, or memory-mapped file).\n",
    "2.dtype: Data type of the array you want to interpret the buffer as. Default is float\n",
    "3.count: Number of items to read. Default is -1 (read all).\n",
    "offset: Start reading from this byte offset in the buffer.'''\n",
    "a=b'Welcome to numpy'\n",
    "b=np.frombuffer(a,dtype='S1',count=2,offset=9)"
   ]
  },
  {
   "cell_type": "code",
   "execution_count": 18,
   "id": "f44e41c8-acca-4b6e-b141-d491b3eb2e89",
   "metadata": {},
   "outputs": [
    {
     "name": "stdout",
     "output_type": "stream",
     "text": [
      "[b'o' b' ']\n"
     ]
    }
   ],
   "source": [
    "print(b)"
   ]
  },
  {
   "cell_type": "code",
   "execution_count": 19,
   "id": "a2b79b88-b052-4edc-997c-337a9186ef6d",
   "metadata": {},
   "outputs": [],
   "source": [
    "#The numpy.fromiter() function is used to create a 1D NumPy array from any iterable, such as a list, tuple, generator, or any object that returns elements one at a time.\n",
    "a=[10,20,30,40]\n",
    "b=np.fromiter(a,dtype=int,count=2)"
   ]
  },
  {
   "cell_type": "code",
   "execution_count": 20,
   "id": "d8e43429-3326-4f62-8855-4b5fa9ff78e1",
   "metadata": {},
   "outputs": [
    {
     "name": "stdout",
     "output_type": "stream",
     "text": [
      "[10 20]\n"
     ]
    }
   ],
   "source": [
    "print(b)"
   ]
  },
  {
   "cell_type": "code",
   "execution_count": 21,
   "id": "225ca946-e994-4d14-a7bf-4b9e4c02a726",
   "metadata": {},
   "outputs": [],
   "source": [
    "#initializing the arrays"
   ]
  },
  {
   "cell_type": "code",
   "execution_count": 24,
   "id": "5df01346-f064-484a-af5f-f0919cfe9392",
   "metadata": {},
   "outputs": [
    {
     "name": "stdout",
     "output_type": "stream",
     "text": [
      "[0 0 0]\n"
     ]
    }
   ],
   "source": [
    "#zeros()-Create an array of given shape and dtype, filled entirely with zeros.\n",
    "a=np.zeros(3,dtype=int)\n",
    "print(a)"
   ]
  },
  {
   "cell_type": "code",
   "execution_count": 26,
   "id": "62e310c4-1250-45bf-8812-5a1cf0a26499",
   "metadata": {},
   "outputs": [
    {
     "data": {
      "text/plain": [
       "array([[0., 0., 0.],\n",
       "       [0., 0., 0.]])"
      ]
     },
     "execution_count": 26,
     "metadata": {},
     "output_type": "execute_result"
    }
   ],
   "source": [
    "np.zeros([2,3])\n"
   ]
  },
  {
   "cell_type": "code",
   "execution_count": 30,
   "id": "8cf68e13-9b6b-4070-b420-3dc2f51f72d9",
   "metadata": {},
   "outputs": [
    {
     "name": "stdout",
     "output_type": "stream",
     "text": [
      "[[1 1 1]\n",
      " [1 1 1]]\n"
     ]
    }
   ],
   "source": [
    "#fill()-Create an array of given shape and dtype, filled with the value you specify.\n",
    "a=np.full([2,3],1,dtype=int)\n",
    "print(a)"
   ]
  },
  {
   "cell_type": "code",
   "execution_count": 32,
   "id": "3555a1de-3818-4656-8fa5-ff08e1e4b5d7",
   "metadata": {},
   "outputs": [
    {
     "data": {
      "text/plain": [
       "array([[0.32364893, 0.9000614 , 0.81052426],\n",
       "       [0.34059052, 0.7827747 , 0.72922867]])"
      ]
     },
     "execution_count": 32,
     "metadata": {},
     "output_type": "execute_result"
    }
   ],
   "source": [
    "np.random.rand(2,3)"
   ]
  },
  {
   "cell_type": "code",
   "execution_count": 33,
   "id": "4d2a6901-eb7f-4032-a81f-344e57d20a75",
   "metadata": {},
   "outputs": [
    {
     "data": {
      "text/plain": [
       "array([[1., 1., 1.],\n",
       "       [1., 1., 1.]])"
      ]
     },
     "execution_count": 33,
     "metadata": {},
     "output_type": "execute_result"
    }
   ],
   "source": [
    "np.ones([2,3])"
   ]
  },
  {
   "cell_type": "code",
   "execution_count": 34,
   "id": "5c177396-107f-4ebb-87f5-03fcc14caf4d",
   "metadata": {},
   "outputs": [
    {
     "data": {
      "text/plain": [
       "array([[1., 0.],\n",
       "       [0., 1.]])"
      ]
     },
     "execution_count": 34,
     "metadata": {},
     "output_type": "execute_result"
    }
   ],
   "source": [
    "#The numpy.eye() function creates a 2D identity matrix — a square matrix with ones on the main diagonal and zeros elsewhere.\n",
    "np.eye(2)"
   ]
  },
  {
   "cell_type": "code",
   "execution_count": 3,
   "id": "36d8cb6c-8db8-41d5-b302-246c157d2388",
   "metadata": {},
   "outputs": [
    {
     "data": {
      "text/plain": [
       "array([[1, 0, 0, 0],\n",
       "       [0, 1, 0, 0],\n",
       "       [0, 0, 1, 0],\n",
       "       [0, 0, 0, 1]])"
      ]
     },
     "execution_count": 3,
     "metadata": {},
     "output_type": "execute_result"
    }
   ],
   "source": [
    "np.eye(4,dtype=int)"
   ]
  },
  {
   "cell_type": "code",
   "execution_count": 5,
   "id": "c47a4c49-5696-4108-a0ce-1e83c4c361fd",
   "metadata": {},
   "outputs": [
    {
     "data": {
      "text/plain": [
       "array([[1, 0, 0, 0],\n",
       "       [0, 2, 0, 0],\n",
       "       [0, 0, 3, 0],\n",
       "       [0, 0, 0, 4]])"
      ]
     },
     "execution_count": 5,
     "metadata": {},
     "output_type": "execute_result"
    }
   ],
   "source": [
    "np.diag([1,2,3,4])"
   ]
  },
  {
   "cell_type": "code",
   "execution_count": 36,
   "id": "5d4b43d7-d0be-4dad-bc93-1ac2e9afb93b",
   "metadata": {},
   "outputs": [],
   "source": [
    "#numerical ranges"
   ]
  },
  {
   "cell_type": "code",
   "execution_count": 37,
   "id": "a14bc68e-e780-40fe-9446-c176e51d7f68",
   "metadata": {},
   "outputs": [
    {
     "data": {
      "text/plain": [
       "array([10, 11, 12, 13, 14, 15, 16, 17, 18, 19])"
      ]
     },
     "execution_count": 37,
     "metadata": {},
     "output_type": "execute_result"
    }
   ],
   "source": [
    "np.arange(10,20,1,dtype=int)"
   ]
  },
  {
   "cell_type": "code",
   "execution_count": 38,
   "id": "ba97b5f2-ecb3-4af5-82b1-af7f802bb5bf",
   "metadata": {},
   "outputs": [
    {
     "data": {
      "text/plain": [
       "array([ 0., 20., 40., 60., 80.])"
      ]
     },
     "execution_count": 38,
     "metadata": {},
     "output_type": "execute_result"
    }
   ],
   "source": [
    "np.arange(0,100,20,dtype=float)"
   ]
  },
  {
   "cell_type": "code",
   "execution_count": 40,
   "id": "d3a55eb4-f16f-44a2-8680-0ebb4cf455a6",
   "metadata": {},
   "outputs": [],
   "source": [
    "a=np.arange(10,70,10,dtype=int)"
   ]
  },
  {
   "cell_type": "code",
   "execution_count": 41,
   "id": "776649df-b91c-4d28-81ae-a5f109026b9e",
   "metadata": {},
   "outputs": [
    {
     "name": "stdout",
     "output_type": "stream",
     "text": [
      "[10 20 30 40 50 60]\n"
     ]
    }
   ],
   "source": [
    "print(a)"
   ]
  },
  {
   "cell_type": "code",
   "execution_count": 42,
   "id": "3af838a7-e471-4fa0-a8ba-293908dd219d",
   "metadata": {},
   "outputs": [
    {
     "data": {
      "text/plain": [
       "array([[10, 20, 30],\n",
       "       [40, 50, 60]])"
      ]
     },
     "execution_count": 42,
     "metadata": {},
     "output_type": "execute_result"
    }
   ],
   "source": [
    "a.reshape(2,3)"
   ]
  },
  {
   "cell_type": "code",
   "execution_count": 44,
   "id": "25468950-9c4e-44ac-a3db-5da8c4606929",
   "metadata": {},
   "outputs": [],
   "source": [
    "#linespace()-np.linspace() is used to create a 1D array of evenly spaced numbers over a specified interval.\n",
    "'''Parameter\tDescription\n",
    "start-The starting value of the sequence.\n",
    "stop-The end value of the sequence.\n",
    "num-Number of samples to generate. Default is 50.\n",
    "endpoint-If True (default), stop is included; otherwise, it's excluded.\n",
    "retstep-If True, returns a tuple: (array, step size).\n",
    "dtype-Data type of the output array.'''\n",
    "a=np.linspace(10,100,10)   #here 10 is the number of intervels we have to divide"
   ]
  },
  {
   "cell_type": "code",
   "execution_count": 45,
   "id": "9276d2fd-5864-4b15-ada9-e494dc632578",
   "metadata": {},
   "outputs": [
    {
     "name": "stdout",
     "output_type": "stream",
     "text": [
      "[ 10.  20.  30.  40.  50.  60.  70.  80.  90. 100.]\n"
     ]
    }
   ],
   "source": [
    "print(a) #endpoint is also included"
   ]
  },
  {
   "cell_type": "code",
   "execution_count": 49,
   "id": "cc0be862-0e0f-4f41-b500-c956a4a9b41e",
   "metadata": {},
   "outputs": [
    {
     "name": "stdout",
     "output_type": "stream",
     "text": [
      "(array([10, 19, 28, 37, 46, 55, 64, 73, 82, 91]), np.float64(9.0))\n"
     ]
    }
   ],
   "source": [
    "b=np.linspace(10,100,10,endpoint=False,dtype=int,retstep=True)\n",
    "print(b)"
   ]
  },
  {
   "cell_type": "code",
   "execution_count": 3,
   "id": "33ecfea3-66cc-40c7-b763-0ba039068efe",
   "metadata": {},
   "outputs": [
    {
     "data": {
      "text/plain": [
       "array([   2.,    4.,    8.,   16.,   32.,   64.,  128.,  256.,  512.,\n",
       "       1024.])"
      ]
     },
     "execution_count": 3,
     "metadata": {},
     "output_type": "execute_result"
    }
   ],
   "source": [
    "np.logspace(1,10,10,base=2)  #default will be base 10"
   ]
  },
  {
   "cell_type": "code",
   "execution_count": 4,
   "id": "d6cfca36-5ef2-48f6-984f-faafb9f4cadf",
   "metadata": {},
   "outputs": [
    {
     "name": "stdout",
     "output_type": "stream",
     "text": [
      "[10 20 30 40 50 60 70 80 90]\n"
     ]
    }
   ],
   "source": [
    "a=np.arange(10,100,10)\n",
    "print(a)"
   ]
  },
  {
   "cell_type": "code",
   "execution_count": 5,
   "id": "d00b0b68-db39-4e30-8ffd-2abdabfb2479",
   "metadata": {},
   "outputs": [
    {
     "name": "stdout",
     "output_type": "stream",
     "text": [
      "[[10 20 30]\n",
      " [40 50 60]\n",
      " [70 80 90]]\n"
     ]
    }
   ],
   "source": [
    "a=a.reshape(3,3)\n",
    "print(a)"
   ]
  },
  {
   "cell_type": "code",
   "execution_count": null,
   "id": "ff565ce4-5e95-488e-8c43-e5d52c2f6062",
   "metadata": {},
   "outputs": [],
   "source": [
    "#Array Properties(1.size-np.size(array)  2.shape-np.shape(array)   3.data type  np.dtype(array)\n"
   ]
  },
  {
   "cell_type": "code",
   "execution_count": 6,
   "id": "567901f2-82c1-4365-90eb-fc6a7d3515f8",
   "metadata": {},
   "outputs": [
    {
     "data": {
      "text/plain": [
       "9"
      ]
     },
     "execution_count": 6,
     "metadata": {},
     "output_type": "execute_result"
    }
   ],
   "source": [
    "np.size(a)  #total number of elements"
   ]
  },
  {
   "cell_type": "code",
   "execution_count": 7,
   "id": "f2442db8-3def-42f8-a3ab-77237e01916f",
   "metadata": {},
   "outputs": [
    {
     "data": {
      "text/plain": [
       "(3, 3)"
      ]
     },
     "execution_count": 7,
     "metadata": {},
     "output_type": "execute_result"
    }
   ],
   "source": [
    "np.shape(a)"
   ]
  },
  {
   "cell_type": "code",
   "execution_count": 9,
   "id": "2f926e81-ccb4-47d9-bd52-c359df916411",
   "metadata": {},
   "outputs": [
    {
     "data": {
      "text/plain": [
       "dtype('int64')"
      ]
     },
     "execution_count": 9,
     "metadata": {},
     "output_type": "execute_result"
    }
   ],
   "source": [
    "a.dtype"
   ]
  },
  {
   "cell_type": "code",
   "execution_count": null,
   "id": "57a88dbc-0121-404d-9c70-b0233999b1b0",
   "metadata": {},
   "outputs": [],
   "source": [
    "#<-------Array Operations------->"
   ]
  },
  {
   "cell_type": "code",
   "execution_count": 11,
   "id": "016d15d1-98f9-46fa-a307-b46fcc8301b7",
   "metadata": {},
   "outputs": [
    {
     "name": "stdout",
     "output_type": "stream",
     "text": [
      "[[10 20 30]\n",
      " [40 50 60]]\n"
     ]
    }
   ],
   "source": [
    "#acessing and slicing operations\n",
    "a=np.array([[10,20,30],[40,50,60]])\n",
    "print(a)"
   ]
  },
  {
   "cell_type": "code",
   "execution_count": 16,
   "id": "36e0a49a-f07c-4302-af9f-da8606927b84",
   "metadata": {},
   "outputs": [
    {
     "name": "stdout",
     "output_type": "stream",
     "text": [
      "[10 20 30]\n",
      "[40 50 60]\n",
      "20\n",
      "60\n"
     ]
    }
   ],
   "source": [
    "print(a[0])\n",
    "print(a[1])\n",
    "print(a[0][1])\n",
    "print(a[1][2])"
   ]
  },
  {
   "cell_type": "code",
   "execution_count": 17,
   "id": "fa2a919f-08fb-437f-8cd7-549974e3450c",
   "metadata": {},
   "outputs": [
    {
     "name": "stdout",
     "output_type": "stream",
     "text": [
      "[[10 20 30]\n",
      " [40 50 60]]\n"
     ]
    }
   ],
   "source": [
    "#copying\n",
    "b=np.copy(a)\n",
    "print(a)"
   ]
  },
  {
   "cell_type": "code",
   "execution_count": 18,
   "id": "81da062e-14c4-4910-9247-aceb88971aeb",
   "metadata": {},
   "outputs": [
    {
     "data": {
      "text/plain": [
       "array([10, 30, 40, 50, 90])"
      ]
     },
     "execution_count": 18,
     "metadata": {},
     "output_type": "execute_result"
    }
   ],
   "source": [
    "#sort\n",
    "a=np.array([30,10,90,50,40])\n",
    "np.sort(a)"
   ]
  },
  {
   "cell_type": "code",
   "execution_count": 20,
   "id": "0df53b22-1cde-4295-8b47-3c6e1b30cf2b",
   "metadata": {},
   "outputs": [
    {
     "name": "stdout",
     "output_type": "stream",
     "text": [
      "[[40 30 20]\n",
      " [10 50  5]]\n"
     ]
    }
   ],
   "source": [
    "a=np.array([[40,30,20],[10,50,5]])\n",
    "print(a)"
   ]
  },
  {
   "cell_type": "code",
   "execution_count": 21,
   "id": "392ae81c-1626-40a0-9ba4-9885214828f2",
   "metadata": {},
   "outputs": [
    {
     "data": {
      "text/plain": [
       "array([[10, 30,  5],\n",
       "       [40, 50, 20]])"
      ]
     },
     "execution_count": 21,
     "metadata": {},
     "output_type": "execute_result"
    }
   ],
   "source": [
    "np.sort(a,axis=0)  #when axisis is zero the sorting is column based when axisis is one it is rowwise"
   ]
  },
  {
   "cell_type": "code",
   "execution_count": 22,
   "id": "27f6e164-5f5d-4945-ab36-d85e908704f6",
   "metadata": {},
   "outputs": [
    {
     "data": {
      "text/plain": [
       "array([[20, 30, 40],\n",
       "       [ 5, 10, 50]])"
      ]
     },
     "execution_count": 22,
     "metadata": {},
     "output_type": "execute_result"
    }
   ],
   "source": [
    "np.sort(a)   #row wise sorting"
   ]
  },
  {
   "cell_type": "code",
   "execution_count": 5,
   "id": "13cd65a3-c990-4c1c-a5e6-77854e3c7148",
   "metadata": {},
   "outputs": [
    {
     "data": {
      "text/plain": [
       "array([(b'h', 98.), (b'm', 90.)], dtype=[('name', 'S1'), ('marks', '<f8')])"
      ]
     },
     "execution_count": 5,
     "metadata": {},
     "output_type": "execute_result"
    }
   ],
   "source": [
    "d=np.dtype([('name','S1'),('marks',float)])\n",
    "a=np.array([('harika',98.0),('meghana',90.0)],dtype=d)\n",
    "a"
   ]
  },
  {
   "cell_type": "code",
   "execution_count": 6,
   "id": "2e3b53e8-14c1-430d-b99c-3687f75566a9",
   "metadata": {},
   "outputs": [
    {
     "data": {
      "text/plain": [
       "array([(b'h', 98.), (b'm', 90.)], dtype=[('name', 'S1'), ('marks', '<f8')])"
      ]
     },
     "execution_count": 6,
     "metadata": {},
     "output_type": "execute_result"
    }
   ],
   "source": [
    "np.sort(a,order='name')"
   ]
  },
  {
   "cell_type": "code",
   "execution_count": 7,
   "id": "a8424132-3f07-4a9d-8969-943302248258",
   "metadata": {},
   "outputs": [
    {
     "data": {
      "text/plain": [
       "array([(b'm', 90.), (b'h', 98.)], dtype=[('name', 'S1'), ('marks', '<f8')])"
      ]
     },
     "execution_count": 7,
     "metadata": {},
     "output_type": "execute_result"
    }
   ],
   "source": [
    "np.sort(a,order='marks')"
   ]
  },
  {
   "cell_type": "code",
   "execution_count": 8,
   "id": "f515e4a6-fc00-4b4c-bbd3-4c9b62200195",
   "metadata": {},
   "outputs": [
    {
     "name": "stdout",
     "output_type": "stream",
     "text": [
      "[ 10  20  30  40  50  60  70  80  90 100]\n"
     ]
    }
   ],
   "source": [
    "#reshape()\n",
    "a=np.arange(10,110,10)\n",
    "print(a)"
   ]
  },
  {
   "cell_type": "code",
   "execution_count": 11,
   "id": "96a7bd6b-408b-4d14-8620-c2f63c6cc548",
   "metadata": {},
   "outputs": [
    {
     "data": {
      "text/plain": [
       "array([[ 10,  20],\n",
       "       [ 30,  40],\n",
       "       [ 50,  60],\n",
       "       [ 70,  80],\n",
       "       [ 90, 100]])"
      ]
     },
     "execution_count": 11,
     "metadata": {},
     "output_type": "execute_result"
    }
   ],
   "source": [
    "a.reshape(5,2)"
   ]
  },
  {
   "cell_type": "code",
   "execution_count": 12,
   "id": "8c364886-39ef-4755-8511-61f18ad02d57",
   "metadata": {},
   "outputs": [
    {
     "data": {
      "text/plain": [
       "array([[ 10,  20,  30,  40,  50],\n",
       "       [ 60,  70,  80,  90, 100]])"
      ]
     },
     "execution_count": 12,
     "metadata": {},
     "output_type": "execute_result"
    }
   ],
   "source": [
    "a.reshape(2,5)"
   ]
  },
  {
   "cell_type": "code",
   "execution_count": 13,
   "id": "91bc7e40-60eb-4450-909f-d4f63c510b75",
   "metadata": {},
   "outputs": [
    {
     "name": "stdout",
     "output_type": "stream",
     "text": [
      "[ 10  20  30  40  50  60  70  80  90 100 110 120]\n"
     ]
    }
   ],
   "source": [
    "a=np.arange(10,130,10)\n",
    "print(a)"
   ]
  },
  {
   "cell_type": "code",
   "execution_count": 14,
   "id": "f86ddb32-9a69-4145-8e03-817eb37a0824",
   "metadata": {},
   "outputs": [
    {
     "data": {
      "text/plain": [
       "array([[ 10,  20],\n",
       "       [ 30,  40],\n",
       "       [ 50,  60],\n",
       "       [ 70,  80],\n",
       "       [ 90, 100],\n",
       "       [110, 120]])"
      ]
     },
     "execution_count": 14,
     "metadata": {},
     "output_type": "execute_result"
    }
   ],
   "source": [
    "a.reshape(6,2)"
   ]
  },
  {
   "cell_type": "code",
   "execution_count": 15,
   "id": "14627a83-c508-472a-bbea-fbfaa0b3e180",
   "metadata": {},
   "outputs": [
    {
     "data": {
      "text/plain": [
       "array([[ 10,  20,  30,  40,  50,  60],\n",
       "       [ 70,  80,  90, 100, 110, 120]])"
      ]
     },
     "execution_count": 15,
     "metadata": {},
     "output_type": "execute_result"
    }
   ],
   "source": [
    "a.reshape(2,6)"
   ]
  },
  {
   "cell_type": "code",
   "execution_count": 16,
   "id": "c919545e-6ad9-4e69-9036-5f098265bbc2",
   "metadata": {},
   "outputs": [
    {
     "data": {
      "text/plain": [
       "array([[ 10,  20,  30],\n",
       "       [ 40,  50,  60],\n",
       "       [ 70,  80,  90],\n",
       "       [100, 110, 120]])"
      ]
     },
     "execution_count": 16,
     "metadata": {},
     "output_type": "execute_result"
    }
   ],
   "source": [
    "a.reshape(4,3)"
   ]
  },
  {
   "cell_type": "code",
   "execution_count": 17,
   "id": "6743d34a-cbf1-4ce0-9a30-057609f809f8",
   "metadata": {},
   "outputs": [
    {
     "data": {
      "text/plain": [
       "array([[[ 10,  20],\n",
       "        [ 30,  40],\n",
       "        [ 50,  60]],\n",
       "\n",
       "       [[ 70,  80],\n",
       "        [ 90, 100],\n",
       "        [110, 120]]])"
      ]
     },
     "execution_count": 17,
     "metadata": {},
     "output_type": "execute_result"
    }
   ],
   "source": [
    "a.reshape(2,3,2)"
   ]
  },
  {
   "cell_type": "code",
   "execution_count": 21,
   "id": "a69061c1-2c8e-40fb-b958-3c9318d5492f",
   "metadata": {},
   "outputs": [
    {
     "name": "stdout",
     "output_type": "stream",
     "text": [
      "[10 20 30 40 50 60]\n"
     ]
    }
   ],
   "source": [
    "#append-adding two lists\n",
    "a=np.array([10,20,30])\n",
    "b=np.array([40,60,50])\n",
    "c=np.append(a,b)\n",
    "c=np.sort(c)\n",
    "print(c)"
   ]
  },
  {
   "cell_type": "code",
   "execution_count": 22,
   "id": "8eb3f299-89a7-4a6c-987e-a2de87ef23c4",
   "metadata": {},
   "outputs": [
    {
     "name": "stdout",
     "output_type": "stream",
     "text": [
      "[10 20 30 40 50 60 70 80]\n"
     ]
    }
   ],
   "source": [
    "a=np.array([[10,20],[30,40]])\n",
    "b=np.array([[50,60],[70,80]])\n",
    "c=np.append(a,b)\n",
    "print(c)"
   ]
  },
  {
   "cell_type": "code",
   "execution_count": 25,
   "id": "e70b7682-79e6-4d09-91d6-0847962df94c",
   "metadata": {},
   "outputs": [
    {
     "name": "stdout",
     "output_type": "stream",
     "text": [
      "[10 20 30 35 40]\n"
     ]
    }
   ],
   "source": [
    "#insert:np.insert(array,position,element)\n",
    "a=np.array([[10,20],[30,40]])\n",
    "a=np.insert(a,3,35)\n",
    "print(a)"
   ]
  },
  {
   "cell_type": "code",
   "execution_count": 26,
   "id": "a4a608ea-2c47-4872-9511-69e0305f9140",
   "metadata": {},
   "outputs": [
    {
     "data": {
      "text/plain": [
       "array([10, 20, 30, 50, 60, 70, 35, 40])"
      ]
     },
     "execution_count": 26,
     "metadata": {},
     "output_type": "execute_result"
    }
   ],
   "source": [
    "np.insert(a,3,[50,60,70])"
   ]
  },
  {
   "cell_type": "code",
   "execution_count": 27,
   "id": "7393a8a2-f368-4028-8483-531b6191a3b3",
   "metadata": {},
   "outputs": [
    {
     "data": {
      "text/plain": [
       "array([10, 20, 35, 40])"
      ]
     },
     "execution_count": 27,
     "metadata": {},
     "output_type": "execute_result"
    }
   ],
   "source": [
    "#delete---np.delete(array,index)\n",
    "np.delete(a,2)"
   ]
  },
  {
   "cell_type": "code",
   "execution_count": null,
   "id": "b7d8a0a4-de0f-4686-85d1-ffedcd97ca18",
   "metadata": {},
   "outputs": [],
   "source": [
    "# when ever we are aplying delete or insert operations on multidimensional array it will return as single dimensional array"
   ]
  },
  {
   "cell_type": "code",
   "execution_count": 5,
   "id": "60322e66-7320-437c-83b8-3f4aa400a95e",
   "metadata": {},
   "outputs": [
    {
     "data": {
      "text/plain": [
       "array([[10, 20, 30],\n",
       "       [40, 50, 60],\n",
       "       [70, 75, 80],\n",
       "       [85, 90, 96]])"
      ]
     },
     "execution_count": 5,
     "metadata": {},
     "output_type": "execute_result"
    }
   ],
   "source": [
    "a=np.array([[10,20,30],[40,50,60]])\n",
    "b=np.array([[70,75,80],[85,90,96]])\n",
    "np.concat((a,b))"
   ]
  },
  {
   "cell_type": "code",
   "execution_count": 6,
   "id": "822a3444-28af-4ab2-af6c-c06231a8862d",
   "metadata": {},
   "outputs": [
    {
     "data": {
      "text/plain": [
       "array([[10, 20, 30, 70, 75, 80],\n",
       "       [40, 50, 60, 85, 90, 96]])"
      ]
     },
     "execution_count": 6,
     "metadata": {},
     "output_type": "execute_result"
    }
   ],
   "source": [
    "np.concat((a,b),axis=1)"
   ]
  },
  {
   "cell_type": "code",
   "execution_count": 7,
   "id": "b2f0162e-f83b-4b57-b6fd-d331f0afd6eb",
   "metadata": {},
   "outputs": [
    {
     "data": {
      "text/plain": [
       "array([[10, 20, 30],\n",
       "       [40, 50, 60]])"
      ]
     },
     "execution_count": 7,
     "metadata": {},
     "output_type": "execute_result"
    }
   ],
   "source": [
    "a"
   ]
  },
  {
   "cell_type": "code",
   "execution_count": 8,
   "id": "8c510716-f4cb-47c1-9971-b14c8e21e405",
   "metadata": {},
   "outputs": [
    {
     "data": {
      "text/plain": [
       "array([[70, 75, 80],\n",
       "       [85, 90, 96]])"
      ]
     },
     "execution_count": 8,
     "metadata": {},
     "output_type": "execute_result"
    }
   ],
   "source": [
    "b"
   ]
  },
  {
   "cell_type": "code",
   "execution_count": 9,
   "id": "c139ac72-c484-4add-9707-b2b37adbefd4",
   "metadata": {},
   "outputs": [
    {
     "name": "stdout",
     "output_type": "stream",
     "text": [
      "[[[10 20 30]\n",
      "  [40 50 60]]\n",
      "\n",
      " [[70 75 80]\n",
      "  [85 90 96]]]\n"
     ]
    }
   ],
   "source": [
    "#stack\n",
    "res=np.stack((a,b))\n",
    "print(res)"
   ]
  },
  {
   "cell_type": "code",
   "execution_count": 10,
   "id": "b68d6bb8-068a-4313-b8e9-bfa4183b1c32",
   "metadata": {},
   "outputs": [
    {
     "data": {
      "text/plain": [
       "array([[10, 20, 30],\n",
       "       [40, 50, 60]])"
      ]
     },
     "execution_count": 10,
     "metadata": {},
     "output_type": "execute_result"
    }
   ],
   "source": [
    "res[0]  #first array that is a will be printed"
   ]
  },
  {
   "cell_type": "code",
   "execution_count": 11,
   "id": "cb730e0c-d601-4a6c-8903-997ae7ef1a83",
   "metadata": {},
   "outputs": [
    {
     "data": {
      "text/plain": [
       "array([[70, 75, 80],\n",
       "       [85, 90, 96]])"
      ]
     },
     "execution_count": 11,
     "metadata": {},
     "output_type": "execute_result"
    }
   ],
   "source": [
    "res[1]  #second array that is b will be printed"
   ]
  },
  {
   "cell_type": "code",
   "execution_count": 12,
   "id": "5773d5b6-0c1a-4b8e-a85a-ad06c8d16063",
   "metadata": {},
   "outputs": [],
   "source": [
    "#the main difference between concat and stack is np.concat() joins two or more arrays along an exsisting axis where as np.stack() joins array along new axis"
   ]
  },
  {
   "cell_type": "code",
   "execution_count": 13,
   "id": "4778589b-2445-4472-9c39-9389b244f230",
   "metadata": {},
   "outputs": [
    {
     "data": {
      "text/plain": [
       "array([[[10, 20, 30],\n",
       "        [70, 75, 80]],\n",
       "\n",
       "       [[40, 50, 60],\n",
       "        [85, 90, 96]]])"
      ]
     },
     "execution_count": 13,
     "metadata": {},
     "output_type": "execute_result"
    }
   ],
   "source": [
    "np.stack((a,b),axis=1) "
   ]
  },
  {
   "cell_type": "code",
   "execution_count": 16,
   "id": "f825f5ff-5462-441f-93bd-af9271382d84",
   "metadata": {},
   "outputs": [
    {
     "data": {
      "text/plain": [
       "array([[10, 20, 30],\n",
       "       [40, 50, 60]])"
      ]
     },
     "execution_count": 16,
     "metadata": {},
     "output_type": "execute_result"
    }
   ],
   "source": [
    "a"
   ]
  },
  {
   "cell_type": "code",
   "execution_count": 17,
   "id": "6118cc40-bbb1-4003-b259-c52ed9640b98",
   "metadata": {},
   "outputs": [
    {
     "data": {
      "text/plain": [
       "array([[70, 75, 80],\n",
       "       [85, 90, 96]])"
      ]
     },
     "execution_count": 17,
     "metadata": {},
     "output_type": "execute_result"
    }
   ],
   "source": [
    "b"
   ]
  },
  {
   "cell_type": "code",
   "execution_count": 14,
   "id": "08a054ac-7669-4069-8b5d-38ec42039be2",
   "metadata": {},
   "outputs": [
    {
     "data": {
      "text/plain": [
       "array([[10, 20, 30],\n",
       "       [40, 50, 60],\n",
       "       [70, 75, 80],\n",
       "       [85, 90, 96]])"
      ]
     },
     "execution_count": 14,
     "metadata": {},
     "output_type": "execute_result"
    }
   ],
   "source": [
    "#vstack\n",
    "np.vstack((a,b))"
   ]
  },
  {
   "cell_type": "code",
   "execution_count": 15,
   "id": "c67e2e3b-8166-4d3c-89dc-cc293dbd52cd",
   "metadata": {},
   "outputs": [
    {
     "data": {
      "text/plain": [
       "array([[10, 20, 30, 70, 75, 80],\n",
       "       [40, 50, 60, 85, 90, 96]])"
      ]
     },
     "execution_count": 15,
     "metadata": {},
     "output_type": "execute_result"
    }
   ],
   "source": [
    "#hstack\n",
    "np.hstack((a,b))   #concatination with respect to axsis 1"
   ]
  },
  {
   "cell_type": "code",
   "execution_count": 18,
   "id": "cee01f9d-6fb2-495e-b838-03de05868d8e",
   "metadata": {},
   "outputs": [
    {
     "data": {
      "text/plain": [
       "array([[10, 20, 30, 70, 75, 80],\n",
       "       [40, 50, 60, 85, 90, 96]])"
      ]
     },
     "execution_count": 18,
     "metadata": {},
     "output_type": "execute_result"
    }
   ],
   "source": [
    "np.concat((a,b),axis=1)"
   ]
  },
  {
   "cell_type": "code",
   "execution_count": 19,
   "id": "0fa6f918-4b1c-4450-8462-a84e71b3a48a",
   "metadata": {},
   "outputs": [
    {
     "data": {
      "text/plain": [
       "array([[10, 20, 30],\n",
       "       [40, 50, 60]])"
      ]
     },
     "execution_count": 19,
     "metadata": {},
     "output_type": "execute_result"
    }
   ],
   "source": [
    "a"
   ]
  },
  {
   "cell_type": "code",
   "execution_count": 20,
   "id": "326cfffd-08dc-4ea6-a0cc-388d0d714fc0",
   "metadata": {},
   "outputs": [
    {
     "data": {
      "text/plain": [
       "array([[70, 75, 80],\n",
       "       [85, 90, 96]])"
      ]
     },
     "execution_count": 20,
     "metadata": {},
     "output_type": "execute_result"
    }
   ],
   "source": [
    "b"
   ]
  },
  {
   "cell_type": "code",
   "execution_count": 21,
   "id": "02df90db-37e9-4617-9254-6cff81a5994f",
   "metadata": {},
   "outputs": [
    {
     "data": {
      "text/plain": [
       "array([[[10, 70],\n",
       "        [20, 75],\n",
       "        [30, 80]],\n",
       "\n",
       "       [[40, 85],\n",
       "        [50, 90],\n",
       "        [60, 96]]])"
      ]
     },
     "execution_count": 21,
     "metadata": {},
     "output_type": "execute_result"
    }
   ],
   "source": [
    "np.dstack((a,b))"
   ]
  },
  {
   "cell_type": "code",
   "execution_count": 22,
   "id": "baaa4695-3c91-4f00-9db0-b0a67fd54222",
   "metadata": {},
   "outputs": [],
   "source": [
    "#concat() stack() vstack() hstack() dstack() are all used for joining arrays in different ways"
   ]
  },
  {
   "cell_type": "code",
   "execution_count": 23,
   "id": "0f1b68bd-3c70-480b-8934-8cbe39c772fd",
   "metadata": {},
   "outputs": [
    {
     "name": "stdout",
     "output_type": "stream",
     "text": [
      "[ 10  20  30  40  50  60  70  80  90 100]\n"
     ]
    }
   ],
   "source": [
    "#np.split() function is udes to split the array into multiple sub arrays\n",
    "x=np.arange(10,110,10)\n",
    "print(x)"
   ]
  },
  {
   "cell_type": "code",
   "execution_count": 24,
   "id": "242971f0-9f90-43f3-8f39-2545c8a928fd",
   "metadata": {},
   "outputs": [
    {
     "data": {
      "text/plain": [
       "[array([10, 20]),\n",
       " array([30, 40]),\n",
       " array([50, 60]),\n",
       " array([70, 80]),\n",
       " array([ 90, 100])]"
      ]
     },
     "execution_count": 24,
     "metadata": {},
     "output_type": "execute_result"
    }
   ],
   "source": [
    "np.split(x,5)  #splits the arryas with each array contains 5 elements"
   ]
  },
  {
   "cell_type": "code",
   "execution_count": 25,
   "id": "4ae1c8db-57b3-49cc-a0d3-4c5cb5d3d0a5",
   "metadata": {},
   "outputs": [
    {
     "data": {
      "text/plain": [
       "[array([10, 20, 30, 40, 50]), array([ 60,  70,  80,  90, 100])]"
      ]
     },
     "execution_count": 25,
     "metadata": {},
     "output_type": "execute_result"
    }
   ],
   "source": [
    "np.split(x,2)"
   ]
  },
  {
   "cell_type": "code",
   "execution_count": 26,
   "id": "b2f57208-50d8-4672-b849-fdc10c2ab162",
   "metadata": {},
   "outputs": [
    {
     "name": "stdout",
     "output_type": "stream",
     "text": [
      "[10 20]\n",
      "[30 40]\n",
      "[50 60]\n",
      "[70 80]\n"
     ]
    }
   ],
   "source": [
    "a1,a2,a3,a4,a5=np.split(x,5)\n",
    "print(a1)\n",
    "print(a2)\n",
    "print(a3)\n",
    "print(a4)"
   ]
  },
  {
   "cell_type": "code",
   "execution_count": 27,
   "id": "3fabaf74-7df4-45ec-b427-a3ccaa2dcac6",
   "metadata": {},
   "outputs": [
    {
     "name": "stdout",
     "output_type": "stream",
     "text": [
      "[ 10  20  30  40  50  60  70  80  90 100 110]\n"
     ]
    }
   ],
   "source": [
    "a=np.arange(10,120,10)\n",
    "print(a)"
   ]
  },
  {
   "cell_type": "code",
   "execution_count": 30,
   "id": "1c3301b4-bfb7-4b1c-9d3b-2dcc01b62f6d",
   "metadata": {},
   "outputs": [
    {
     "data": {
      "text/plain": [
       "[array([10, 20]), array([30, 40, 50, 60]), array([ 70,  80,  90, 100, 110])]"
      ]
     },
     "execution_count": 30,
     "metadata": {},
     "output_type": "execute_result"
    }
   ],
   "source": [
    "np.split(a,(2,6))"
   ]
  },
  {
   "cell_type": "code",
   "execution_count": null,
   "id": "32d35276-d7fd-4ff5-a8e1-b6de1da0bbbf",
   "metadata": {},
   "outputs": [],
   "source": [
    "#where() function is used to check where the elements is present in the array"
   ]
  },
  {
   "cell_type": "code",
   "execution_count": 32,
   "id": "1cedb174-430c-4bb9-913d-f7013fddf282",
   "metadata": {},
   "outputs": [
    {
     "data": {
      "text/plain": [
       "array([[ 10,  20,  30],\n",
       "       [ 40,  50,  60],\n",
       "       [ 70,  80,  90],\n",
       "       [100, 110, 120]])"
      ]
     },
     "execution_count": 32,
     "metadata": {},
     "output_type": "execute_result"
    }
   ],
   "source": [
    "a=np.arange(10,130,10).reshape(4,3)\n",
    "a"
   ]
  },
  {
   "cell_type": "code",
   "execution_count": 33,
   "id": "9dd67528-8f0f-4ae8-a232-bb5281f6f6ed",
   "metadata": {},
   "outputs": [
    {
     "data": {
      "text/plain": [
       "(array([2]), array([1]))"
      ]
     },
     "execution_count": 33,
     "metadata": {},
     "output_type": "execute_result"
    }
   ],
   "source": [
    "np.where(a==80) #present in second row and first column"
   ]
  },
  {
   "cell_type": "code",
   "execution_count": 34,
   "id": "02007501-0600-4186-9418-7957adc5566d",
   "metadata": {},
   "outputs": [
    {
     "data": {
      "text/plain": [
       "array([ 10,  20,  30,  40,  50,  60,  70,  80,  90, 100])"
      ]
     },
     "execution_count": 34,
     "metadata": {},
     "output_type": "execute_result"
    }
   ],
   "source": [
    "a=np.arange(10,110,10)\n",
    "a"
   ]
  },
  {
   "cell_type": "code",
   "execution_count": 35,
   "id": "7abd4857-3979-4304-9bca-25628f52b164",
   "metadata": {},
   "outputs": [
    {
     "data": {
      "text/plain": [
       "(array([3]),)"
      ]
     },
     "execution_count": 35,
     "metadata": {},
     "output_type": "execute_result"
    }
   ],
   "source": [
    "np.where(a==40)"
   ]
  },
  {
   "cell_type": "code",
   "execution_count": 36,
   "id": "8d1b9de2-4bac-4844-809e-b1cfc3b79ff3",
   "metadata": {},
   "outputs": [
    {
     "data": {
      "text/plain": [
       "array([ 10,  20,  30,  40,  50,  60,  70,  80,  90, 100])"
      ]
     },
     "execution_count": 36,
     "metadata": {},
     "output_type": "execute_result"
    }
   ],
   "source": [
    "a"
   ]
  },
  {
   "cell_type": "code",
   "execution_count": 37,
   "id": "237fa62c-f751-4508-a9fb-2f84d03c2954",
   "metadata": {},
   "outputs": [
    {
     "data": {
      "text/plain": [
       "(array([1, 3, 5, 7, 9]),)"
      ]
     },
     "execution_count": 37,
     "metadata": {},
     "output_type": "execute_result"
    }
   ],
   "source": [
    "np.where(a%20==0)  #1st index is 20 3rd index is 40 5th index 60 7th index is 80 9th index is 100 all are divisible by 20"
   ]
  },
  {
   "cell_type": "code",
   "execution_count": 40,
   "id": "aa6264b8-c39a-4a00-a199-d197b6aeb3a4",
   "metadata": {},
   "outputs": [
    {
     "data": {
      "text/plain": [
       "np.int64(1)"
      ]
     },
     "execution_count": 40,
     "metadata": {},
     "output_type": "execute_result"
    }
   ],
   "source": [
    "#searchsort--search in a sorted array and returns the index\n",
    "a=np.array([10,20,30,40,50,60])\n",
    "np.searchsorted(a,20)"
   ]
  },
  {
   "cell_type": "code",
   "execution_count": 41,
   "id": "30f04dd6-fec8-477b-8397-6c6a273205f6",
   "metadata": {},
   "outputs": [
    {
     "data": {
      "text/plain": [
       "array([3, 4, 5])"
      ]
     },
     "execution_count": 41,
     "metadata": {},
     "output_type": "execute_result"
    }
   ],
   "source": [
    "np.searchsorted(a,[40,50,60])"
   ]
  },
  {
   "cell_type": "code",
   "execution_count": null,
   "id": "02978cc1-d7b6-440f-a873-2fc38adee7ca",
   "metadata": {},
   "outputs": [],
   "source": [
    "#Arithmetic operations(when ever we are doing any arithmetic operations the size of both arrays should match except for multiplication for multiplication\n",
    "#the number of columns of first array should be same as the number of rows of the second array"
   ]
  },
  {
   "cell_type": "code",
   "execution_count": 43,
   "id": "fea61234-f1d8-44f8-a1e6-0e0bee3ead67",
   "metadata": {},
   "outputs": [
    {
     "data": {
      "text/plain": [
       "array([[11, 22, 33],\n",
       "       [44, 55, 66]])"
      ]
     },
     "execution_count": 43,
     "metadata": {},
     "output_type": "execute_result"
    }
   ],
   "source": [
    "a=np.array([[10,20,30],[40,50,60]])\n",
    "b=np.array([[1,2,3],[4,5,6]])\n",
    "np.add(a,b)"
   ]
  },
  {
   "cell_type": "code",
   "execution_count": 45,
   "id": "d8c8b64d-9d9a-4ac6-8ef7-025981313e62",
   "metadata": {},
   "outputs": [
    {
     "data": {
      "text/plain": [
       "array([[ 9, 18, 27],\n",
       "       [36, 45, 54]])"
      ]
     },
     "execution_count": 45,
     "metadata": {},
     "output_type": "execute_result"
    }
   ],
   "source": [
    "np.subtract(a,b)"
   ]
  },
  {
   "cell_type": "code",
   "execution_count": 46,
   "id": "af09513c-f26e-4b50-9598-e9198bbcede8",
   "metadata": {},
   "outputs": [
    {
     "data": {
      "text/plain": [
       "array([[ 10,  40,  90],\n",
       "       [160, 250, 360]])"
      ]
     },
     "execution_count": 46,
     "metadata": {},
     "output_type": "execute_result"
    }
   ],
   "source": [
    "np.multiply(a,b)"
   ]
  },
  {
   "cell_type": "code",
   "execution_count": 47,
   "id": "56d09567-1d5e-461f-8278-cb493fc70798",
   "metadata": {},
   "outputs": [
    {
     "data": {
      "text/plain": [
       "array([[10., 10., 10.],\n",
       "       [10., 10., 10.]])"
      ]
     },
     "execution_count": 47,
     "metadata": {},
     "output_type": "execute_result"
    }
   ],
   "source": [
    "np.divide(a,b)"
   ]
  },
  {
   "cell_type": "code",
   "execution_count": 48,
   "id": "0043e32e-3a49-4aeb-b500-f3a0d9c4554d",
   "metadata": {},
   "outputs": [
    {
     "data": {
      "text/plain": [
       "array([[2.20264658e+04, 4.85165195e+08, 1.06864746e+13],\n",
       "       [2.35385267e+17, 5.18470553e+21, 1.14200739e+26]])"
      ]
     },
     "execution_count": 48,
     "metadata": {},
     "output_type": "execute_result"
    }
   ],
   "source": [
    "np.exp(a)"
   ]
  },
  {
   "cell_type": "code",
   "execution_count": 49,
   "id": "980fbb41-8847-4bcf-ab4e-c13828adf67d",
   "metadata": {},
   "outputs": [
    {
     "data": {
      "text/plain": [
       "array([[  2.71828183,   7.3890561 ,  20.08553692],\n",
       "       [ 54.59815003, 148.4131591 , 403.42879349]])"
      ]
     },
     "execution_count": 49,
     "metadata": {},
     "output_type": "execute_result"
    }
   ],
   "source": [
    "np.exp(b)"
   ]
  },
  {
   "cell_type": "code",
   "execution_count": 50,
   "id": "96ddf623-47f0-4ead-9af0-9d5b9f022034",
   "metadata": {},
   "outputs": [
    {
     "data": {
      "text/plain": [
       "array([[3.16227766, 4.47213595, 5.47722558],\n",
       "       [6.32455532, 7.07106781, 7.74596669]])"
      ]
     },
     "execution_count": 50,
     "metadata": {},
     "output_type": "execute_result"
    }
   ],
   "source": [
    "np.sqrt(a)"
   ]
  },
  {
   "cell_type": "code",
   "execution_count": 51,
   "id": "7986300e-8fe8-4618-a5a6-d17a24cd33e5",
   "metadata": {},
   "outputs": [
    {
     "data": {
      "text/plain": [
       "array([[1.        , 1.41421356, 1.73205081],\n",
       "       [2.        , 2.23606798, 2.44948974]])"
      ]
     },
     "execution_count": 51,
     "metadata": {},
     "output_type": "execute_result"
    }
   ],
   "source": [
    "np.sqrt(b)"
   ]
  },
  {
   "cell_type": "code",
   "execution_count": 53,
   "id": "7da6f30b-1d5a-4f95-920b-a7dc586477cc",
   "metadata": {},
   "outputs": [
    {
     "data": {
      "text/plain": [
       "True"
      ]
     },
     "execution_count": 53,
     "metadata": {},
     "output_type": "execute_result"
    }
   ],
   "source": [
    "a=np.array([10,20,30])\n",
    "b=np.array([10,20,30])\n",
    "np.array_equal(a,b)"
   ]
  },
  {
   "cell_type": "code",
   "execution_count": null,
   "id": "90529c78-c0da-45f7-b7db-fc00ad5c46b9",
   "metadata": {},
   "outputs": [],
   "source": [
    "#Array function(sum,mean,median,standarddeviation,varience,max,min)"
   ]
  },
  {
   "cell_type": "code",
   "execution_count": 54,
   "id": "b9654d4c-aaf0-4a81-bdd3-0258739cb434",
   "metadata": {},
   "outputs": [
    {
     "data": {
      "text/plain": [
       "np.int64(10)"
      ]
     },
     "execution_count": 54,
     "metadata": {},
     "output_type": "execute_result"
    }
   ],
   "source": [
    "a=np.array([[10,20],[30,40],[50,60]])\n",
    "np.min(a)"
   ]
  },
  {
   "cell_type": "code",
   "execution_count": 55,
   "id": "96dbf5f9-6ab5-4f33-8005-38caab333b9d",
   "metadata": {},
   "outputs": [
    {
     "data": {
      "text/plain": [
       "np.int64(60)"
      ]
     },
     "execution_count": 55,
     "metadata": {},
     "output_type": "execute_result"
    }
   ],
   "source": [
    "np.max(a)"
   ]
  },
  {
   "cell_type": "code",
   "execution_count": 56,
   "id": "378c55cc-2c08-436e-b15e-44664e0ee7c9",
   "metadata": {},
   "outputs": [
    {
     "data": {
      "text/plain": [
       "array([10, 30, 50])"
      ]
     },
     "execution_count": 56,
     "metadata": {},
     "output_type": "execute_result"
    }
   ],
   "source": [
    "np.min(a,axis=1)"
   ]
  },
  {
   "cell_type": "code",
   "execution_count": 57,
   "id": "c3d886b4-99d4-4269-9712-acf06cc386fe",
   "metadata": {},
   "outputs": [
    {
     "data": {
      "text/plain": [
       "array([10, 20])"
      ]
     },
     "execution_count": 57,
     "metadata": {},
     "output_type": "execute_result"
    }
   ],
   "source": [
    "np.min(a,axis=0)"
   ]
  },
  {
   "cell_type": "code",
   "execution_count": 58,
   "id": "95a7b782-bd25-48c8-b707-965ba665fbd8",
   "metadata": {},
   "outputs": [
    {
     "data": {
      "text/plain": [
       "np.int64(60)"
      ]
     },
     "execution_count": 58,
     "metadata": {},
     "output_type": "execute_result"
    }
   ],
   "source": [
    "np.max(a)"
   ]
  },
  {
   "cell_type": "code",
   "execution_count": 59,
   "id": "979b3600-c036-4b46-b6e8-7431b8105745",
   "metadata": {},
   "outputs": [
    {
     "data": {
      "text/plain": [
       "array([20, 40, 60])"
      ]
     },
     "execution_count": 59,
     "metadata": {},
     "output_type": "execute_result"
    }
   ],
   "source": [
    "np.max(a,axis=1)"
   ]
  },
  {
   "cell_type": "code",
   "execution_count": 60,
   "id": "3d4b5c61-17ab-4384-a921-ffb5b7191dcf",
   "metadata": {},
   "outputs": [
    {
     "data": {
      "text/plain": [
       "array([50, 60])"
      ]
     },
     "execution_count": 60,
     "metadata": {},
     "output_type": "execute_result"
    }
   ],
   "source": [
    "np.max(a,axis=0)"
   ]
  },
  {
   "cell_type": "code",
   "execution_count": 61,
   "id": "5cc8319c-4bb9-4672-88aa-403e25b00906",
   "metadata": {},
   "outputs": [
    {
     "data": {
      "text/plain": [
       "np.int64(210)"
      ]
     },
     "execution_count": 61,
     "metadata": {},
     "output_type": "execute_result"
    }
   ],
   "source": [
    "np.sum(a)"
   ]
  },
  {
   "cell_type": "code",
   "execution_count": 62,
   "id": "36a6dda0-28c5-4374-9b48-b3c0fb41b81b",
   "metadata": {},
   "outputs": [
    {
     "data": {
      "text/plain": [
       "array([ 30,  70, 110])"
      ]
     },
     "execution_count": 62,
     "metadata": {},
     "output_type": "execute_result"
    }
   ],
   "source": [
    "np.sum(a,axis=1)"
   ]
  },
  {
   "cell_type": "code",
   "execution_count": 63,
   "id": "7d2d0b83-d73a-4658-9f93-55359d0ad4a6",
   "metadata": {},
   "outputs": [
    {
     "data": {
      "text/plain": [
       "array([ 90, 120])"
      ]
     },
     "execution_count": 63,
     "metadata": {},
     "output_type": "execute_result"
    }
   ],
   "source": [
    "np.sum(a,axis=0)"
   ]
  },
  {
   "cell_type": "code",
   "execution_count": 64,
   "id": "0cd01470-dbdf-4af2-a79b-ffee7ad81550",
   "metadata": {},
   "outputs": [
    {
     "data": {
      "text/plain": [
       "np.float64(35.0)"
      ]
     },
     "execution_count": 64,
     "metadata": {},
     "output_type": "execute_result"
    }
   ],
   "source": [
    "np.mean(a)"
   ]
  },
  {
   "cell_type": "code",
   "execution_count": 65,
   "id": "615922b4-8fb9-4c7b-be1e-9540205523ec",
   "metadata": {},
   "outputs": [
    {
     "data": {
      "text/plain": [
       "array([30., 40.])"
      ]
     },
     "execution_count": 65,
     "metadata": {},
     "output_type": "execute_result"
    }
   ],
   "source": [
    "np.mean(a,axis=0)"
   ]
  },
  {
   "cell_type": "code",
   "execution_count": 66,
   "id": "7aef320a-28c7-4202-8b64-04f3078b1a34",
   "metadata": {},
   "outputs": [
    {
     "data": {
      "text/plain": [
       "array([15., 35., 55.])"
      ]
     },
     "execution_count": 66,
     "metadata": {},
     "output_type": "execute_result"
    }
   ],
   "source": [
    "np.mean(a,axis=1)"
   ]
  },
  {
   "cell_type": "code",
   "execution_count": 67,
   "id": "f58c983a-e1a1-447e-868b-ed1476ac4a8e",
   "metadata": {},
   "outputs": [
    {
     "data": {
      "text/plain": [
       "np.float64(35.0)"
      ]
     },
     "execution_count": 67,
     "metadata": {},
     "output_type": "execute_result"
    }
   ],
   "source": [
    "np.median(a)"
   ]
  },
  {
   "cell_type": "code",
   "execution_count": 68,
   "id": "db486eeb-730a-4315-a190-7e27081e558a",
   "metadata": {},
   "outputs": [
    {
     "data": {
      "text/plain": [
       "np.float64(291.6666666666667)"
      ]
     },
     "execution_count": 68,
     "metadata": {},
     "output_type": "execute_result"
    }
   ],
   "source": [
    "np.var(a)"
   ]
  },
  {
   "cell_type": "code",
   "execution_count": 69,
   "id": "c228fcbd-5dc5-408d-8d0f-d1486dab754d",
   "metadata": {},
   "outputs": [
    {
     "data": {
      "text/plain": [
       "np.float64(17.07825127659933)"
      ]
     },
     "execution_count": 69,
     "metadata": {},
     "output_type": "execute_result"
    }
   ],
   "source": [
    "np.std(a)"
   ]
  },
  {
   "cell_type": "code",
   "execution_count": null,
   "id": "26b8e681-6546-429d-ab47-69fef03fd6f5",
   "metadata": {},
   "outputs": [],
   "source": []
  }
 ],
 "metadata": {
  "kernelspec": {
   "display_name": "Python 3 (ipykernel)",
   "language": "python",
   "name": "python3"
  },
  "language_info": {
   "codemirror_mode": {
    "name": "ipython",
    "version": 3
   },
   "file_extension": ".py",
   "mimetype": "text/x-python",
   "name": "python",
   "nbconvert_exporter": "python",
   "pygments_lexer": "ipython3",
   "version": "3.13.1"
  }
 },
 "nbformat": 4,
 "nbformat_minor": 5
}
